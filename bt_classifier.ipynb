{
 "cells": [
  {
   "cell_type": "markdown",
   "id": "92fb1bfc",
   "metadata": {},
   "source": [
    "# Project Overview\n",
    "\n",
    "Brief description of the brain tumor image classification project.\n",
    "\n",
    "---"
   ]
  },
  {
   "cell_type": "markdown",
   "id": "f8a7c61f",
   "metadata": {},
   "source": [
    "# Data Preprocessing\n",
    "\n",
    "Steps to preprocess the images (e.g., resizing, normalization, augmentation).\n",
    "\n",
    "### Pasos recomendados\n",
    "\n",
    "1. **Revisión y curado del dataset**\n",
    "   - Eliminar duplicados, imágenes corruptas o mal etiquetadas.\n",
    "   - Verificar coherencia entre nombres de archivos y carpetas.\n",
    "   - Etiquetar por paciente si es posible (para evitar data leakage).\n",
    "\n",
    "2. **División estratificada del dataset**\n",
    "   - Separar en conjuntos: entrenamiento, validación y test.\n",
    "   - Mantener proporción similar de clases en cada conjunto.\n",
    "   - Asegurar que un mismo paciente no esté en más de un conjunto.\n",
    "\n",
    "3. **Redimensionado y transformación de formato**\n",
    "   - Unificar tamaño de imágenes (por ejemplo, 224x224 px).\n",
    "   - Convertir a formato RGB si se va a usar un modelo preentrenado.\n",
    "   - Cambiar a tipo de dato `float32`.\n",
    "\n",
    "4. **Normalización de los valores de píxeles**\n",
    "   - Escalar los valores de los píxeles a un rango como `[0, 1]` o `[-1, 1]`.\n",
    "   - En imágenes médicas, aplicar normalización tipo Z-score si procede.\n",
    "\n",
    "5. **Balanceo de clases**\n",
    "   - Verificar si hay desbalance entre \"tumor\" y \"sano\".\n",
    "   - Aplicar estrategias como oversampling, class weighting o pérdida focal.\n",
    "\n",
    "6. **Data augmentation**\n",
    "   - Diseñar transformaciones que no alteren la validez clínica.\n",
    "   - Incluir rotaciones leves, zoom, flips horizontales, brillo, contraste...\n",
    "   - Evitar transformaciones que inviertan lateralidad o distorsionen la anatomía.\n",
    "\n",
    "7. **Preprocesado adaptado al modelo**\n",
    "   - Aplicar la función de preprocesamiento correspondiente si se usa un modelo preentrenado (e.g., `preprocess_input` de ResNet o EfficientNet).\n",
    "\n",
    "\n",
    "---"
   ]
  },
  {
   "cell_type": "markdown",
   "id": "9cfc1551",
   "metadata": {},
   "source": [
    "# Exploratory Data Analysis\n",
    "\n",
    "Visualizations and statistics to understand the dataset.\n",
    "\n",
    "\n",
    "### Pasos del análisis exploratorio\n",
    "\n",
    "1. **Resumen general del dataset**\n",
    "   - Número total de imágenes.\n",
    "   - Número de imágenes por clase: `tumor` vs `sano`.\n",
    "   - Número de imágenes por conjunto: entrenamiento, validación y test.\n",
    "   - Verificar si las clases están balanceadas.\n",
    "\n",
    "2. **Visualización de ejemplos por clase**\n",
    "   - Mostrar imágenes representativas de cada clase.\n",
    "   - Comprobar variabilidad visual entre las clases.\n",
    "   - Identificar posibles imágenes mal clasificadas, oscuras o ruidosas.\n",
    "\n",
    "3. **Distribución de tamaños y resoluciones**\n",
    "   - Analizar si todas las imágenes tienen dimensiones coherentes.\n",
    "   - Detectar outliers en tamaño o relación de aspecto.\n",
    "\n",
    "4. **Histograma de intensidades de píxeles**\n",
    "   - Visualizar histogramas para imágenes individuales o agrupadas por clase.\n",
    "   - Detectar diferencias de brillo o contraste entre clases.\n",
    "\n",
    "5. **Comprobación de duplicados o imágenes muy similares**\n",
    "   - Verificar si hay imágenes repetidas (por nombre o por contenido).\n",
    "   - Usar técnicas básicas como hashing, distancia estructural, etc.\n",
    "\n",
    "---"
   ]
  },
  {
   "cell_type": "markdown",
   "id": "b55d4b02",
   "metadata": {},
   "source": [
    "# Model Building\n",
    "\n",
    "Define the architecture of the classification model (e.g., CNN)."
   ]
  },
  {
   "cell_type": "markdown",
   "id": "adfa5a91",
   "metadata": {},
   "source": [
    "# Model Training\n",
    "\n",
    "Train the model using the training dataset."
   ]
  },
  {
   "cell_type": "markdown",
   "id": "cc76abb9",
   "metadata": {},
   "source": [
    "# Model Evaluation\n",
    "\n",
    "Evaluate the model performance on the validation/test dataset."
   ]
  },
  {
   "cell_type": "markdown",
   "id": "5a9aade7",
   "metadata": {},
   "source": [
    "# Predictions\n",
    "\n",
    "Make predictions on new or unseen images."
   ]
  },
  {
   "cell_type": "markdown",
   "id": "f5468929",
   "metadata": {},
   "source": [
    "# Conclusions and Next Steps\n",
    "\n",
    "Summarize findings and suggest future improvements."
   ]
  }
 ],
 "metadata": {
  "kernelspec": {
   "display_name": "Python 3 (ipykernel)",
   "language": "python",
   "name": "python3"
  },
  "language_info": {
   "codemirror_mode": {
    "name": "ipython",
    "version": 3
   },
   "file_extension": ".py",
   "mimetype": "text/x-python",
   "name": "python",
   "nbconvert_exporter": "python",
   "pygments_lexer": "ipython3",
   "version": "3.12.7"
  }
 },
 "nbformat": 4,
 "nbformat_minor": 5
}
