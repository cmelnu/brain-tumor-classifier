{
 "cells": [
  {
   "cell_type": "markdown",
   "id": "92fb1bfc",
   "metadata": {},
   "source": [
    "# Project Overview\n",
    "\n",
    "Brief description of the brain tumor image classification project.\n",
    "\n",
    "In this section, I converted all images to RGB format and resized them to (224, 224).\n",
    "I also applied a set of transformations to normalize the data properly, which is a common preprocessing step before feeding the images into a convolutional neural network.\n"
   ]
  },
  {
   "cell_type": "markdown",
   "id": "c873ebf0",
   "metadata": {},
   "source": [
    "<span style=\"color:red\"><b><<<<<<< local</b></span>"
   ]
  },
  {
   "cell_type": "code",
   "execution_count": null,
   "id": "f2b3342b",
   "metadata": {},
   "outputs": [],
   "source": [
    "import torch\n",
    "from torchvision import transforms, datasets\n",
    "from torch.utils.data import DataLoader\n",
    "from pathlib import Path\n",
    "\n",
    "transform = transforms.Compose([\n",
    "    transforms.Lambda(lambda img: img.convert(\"RGB\")),  # Ensure RGB\n",
    "    transforms.Resize((224, 224)),                      # Resize to 224x224\n",
    "    transforms.ToTensor(),                              # Convert to tensor\n",
    "    transforms.Normalize(mean=[0.5]*3, std=[0.5]*3)      # Normalize to [-1,1]\n",
    "])\n",
    "\n",
    "# Step 2: Define relative paths\n",
    "base_dir = Path.cwd()\n",
    "train_dir = base_dir / \"archive\" / \"training\"\n",
    "test_dir = base_dir / \"archive\" / \"testing\"\n",
    "\n",
    "# Step 3: Load datasets with transformations\n",
    "train_dataset = datasets.ImageFolder(root=str(train_dir), transform=transform)\n",
    "test_dataset = datasets.ImageFolder(root=str(test_dir), transform=transform)\n",
    "\n",
    "# Step 4: Create DataLoaders\n",
    "train_loader = DataLoader(train_dataset, batch_size=32, shuffle=True)\n",
    "test_loader = DataLoader(test_dataset, batch_size=32, shuffle=False)\n",
    "\n",
    "# Step 5: Check the detected classes\n",
    "print(\"Detected classes:\", train_dataset.classes)\n",
    "\n"
   ]
  },
  {
   "cell_type": "markdown",
   "id": "29b5ee3a-852b-4c5b-b8c2-56f42252a150",
   "metadata": {},
   "source": [
    "# Exploratory Data Analysis\n",
    "\n",
    "I verified that no class rebalancing is necessary, since the number of images per class is already reasonably balanced.\n",
    "Additionally, I displayed several examples of the images after preprocessing to visualize how they look before being passed to the mode"
   ]
  },
  {
   "cell_type": "code",
   "execution_count": null,
   "id": "871dac93-6d34-4d63-85ec-5742170d0a0d",
   "metadata": {},
   "outputs": [],
   "source": [
    "from collections import Counter\n",
    "import matplotlib.pyplot as plt\n",
    "\n",
    "labels = [label for _, label in train_dataset]\n",
    "counter = Counter(labels)\n",
    "\n",
    "plt.bar(counter.keys(), counter.values(), tick_label=train_dataset.classes)\n",
    "plt.title(\"Class distribution (training set)\")\n",
    "plt.xlabel(\"Class\")\n",
    "plt.ylabel(\"Number of images\")\n",
    "plt.show()\n",
    "\n"
   ]
  },
  {
   "cell_type": "code",
   "execution_count": null,
   "id": "5ff6abef",
   "metadata": {},
   "outputs": [],
   "source": [
    "# Reverse normalization: from [-1,1] to [0,1]\n",
    "inv_normalize = transforms.Normalize(\n",
    "    mean=[-1.0, -1.0, -1.0],\n",
    "    std=[2.0, 2.0, 2.0]\n",
    ")\n",
    "\n",
    "# Collect one image per class\n",
    "class_images = {}\n",
    "for img, label in train_dataset:\n",
    "    class_name = train_dataset.classes[label]\n",
    "    if class_name not in class_images:\n",
    "        class_images[class_name] = img\n",
    "    if len(class_images) == len(train_dataset.classes):\n",
    "        break\n",
    "\n",
    "# Display: row 1 -> normalized, row 2 -> de-normalized\n",
    "n_classes = len(class_images)\n",
    "plt.figure(figsize=(n_classes * 2.5, 5))\n",
    "\n",
    "for idx, (class_name, img) in enumerate(class_images.items()):\n",
    "    # Row 1: Normalized image\n",
    "    plt.subplot(2, n_classes, idx + 1)\n",
    "    plt.imshow(img.permute(1, 2, 0).numpy())\n",
    "    plt.title(f\"{class_name}\\n(normalized)\")\n",
    "    plt.axis('off')\n",
    "\n",
    "    # Row 2: De-normalized image (to visualize properly)\n",
    "    img_inv = inv_normalize(img)\n",
    "    img_inv = torch.clamp(img_inv, 0, 1)  # ensure values are in [0,1]\n",
    "    plt.subplot(2, n_classes, n_classes + idx + 1)\n",
    "    plt.imshow(img_inv.permute(1, 2, 0).numpy())\n",
    "    plt.title(f\"{class_name}\\n(original)\")\n",
    "    plt.axis('off')\n",
    "\n",
    "plt.tight_layout()\n",
    "plt.show()"
   ]
  },
  {
   "cell_type": "markdown",
   "id": "848cfa92",
   "metadata": {},
   "source": [
    "# Data Loading\n",
    "\n",
    "Code to load image dataset for brain tumor classification."
   ]
  },
  {
   "cell_type": "markdown",
   "id": "86cdb261",
   "metadata": {},
   "source": [
    "<span style=\"color:red\"><b>=======</b></span>"
   ]
  },
  {
   "cell_type": "code",
   "execution_count": null,
   "id": "57ff1f7b",
   "metadata": {},
   "outputs": [],
   "source": [
    "import kagglehub\n",
    "\n",
    "# Download latest version\n",
    "base_dir = kagglehub.dataset_download(\"masoudnickparvar/brain-tumor-mri-dataset\")\n",
    "\n",
    "print(\"Path to dataset files:\", base_dir)"
   ]
  },
  {
   "cell_type": "markdown",
   "id": "f2f06b69",
   "metadata": {},
   "source": [
    "<span style=\"color:red\"><b>>>>>>>> remote</b></span>"
   ]
  },
  {
   "cell_type": "code",
   "execution_count": null,
   "id": "83312539",
   "metadata": {},
   "outputs": [],
   "source": [
    "import os\n",
    "import numpy as np\n",
    "from PIL import Image\n",
    "import matplotlib.pyplot as plt\n",
    "\n",
    "# Tumor categories\n",
    "categories = [\"glioma\", \"meningioma\", \"notumor\", \"pituitary\"]\n",
    "\n",
    "# Training directories\n",
    "train_dir = os.path.join(base_dir, \"Training\")\n",
    "train_glioma_dir = os.path.join(train_dir, \"glioma\")\n",
    "train_meningioma_dir = os.path.join(train_dir, \"meningioma\")\n",
    "train_notumor_dir = os.path.join(train_dir, \"notumor\")\n",
    "train_pituitary_dir = os.path.join(train_dir, \"pituitary\")\n",
    "\n",
    "# Testing directories\n",
    "test_dir = os.path.join(base_dir, \"Testing\")\n",
    "test_glioma_dir = os.path.join(test_dir, \"glioma\")\n",
    "test_meningioma_dir = os.path.join(test_dir, \"meningioma\")\n",
    "test_notumor_dir = os.path.join(test_dir, \"notumor\")\n",
    "test_pituitary_dir = os.path.join(test_dir, \"pituitary\")\n",
    "\n",
    "# Example: Listing number of images in glioma training and testing folders\n",
    "train_glioma_files = os.listdir(train_glioma_dir)\n",
    "test_glioma_files = os.listdir(test_glioma_dir)\n",
    "train_meningioma_files = os.listdir(train_meningioma_dir)\n",
    "test_meningioma_files = os.listdir(test_meningioma_dir)\n",
    "train_notumor_files = os.listdir(train_notumor_dir)\n",
    "test_notumor_files = os.listdir(test_notumor_dir)\n",
    "train_pituitary_files = os.listdir(train_pituitary_dir)\n",
    "test_pituitary_files = os.listdir(test_pituitary_dir)\n",
    "\n",
    "print(\"Training glioma images:\", len(train_glioma_files))\n",
    "print(\"Testing glioma images:\", len(test_glioma_files))\n",
    "print(\"Training meningioma images:\", len(train_meningioma_files))\n",
    "print(\"Testing meningioma images:\", len(test_meningioma_files))\n",
    "print(\"Training notumor images:\", len(train_notumor_files))\n",
    "print(\"Testing notumor images:\", len(test_notumor_files))\n",
    "print(\"Training pituitary images:\", len(train_pituitary_files))\n",
    "print(\"Testing pituitary images:\", len(test_pituitary_files))\n"
   ]
  },
  {
   "cell_type": "markdown",
   "id": "f8a871cc",
   "metadata": {},
   "source": [
    "# Data preprocessing"
   ]
  },
  {
   "cell_type": "code",
   "execution_count": null,
   "id": "706f5c24",
   "metadata": {},
   "outputs": [],
   "source": [
    "import os\n",
    "import numpy as np\n",
    "from PIL import Image\n",
    "import matplotlib.pyplot as plt\n",
    "from skimage import exposure\n",
    "\n",
    "target_size = (128, 128)  # width, height\n",
    "\n",
    "# Paths for training and testing sets by category\n",
    "train_test_data_dirs = {\n",
    "    \"train\": {cat: os.path.join(base_dir, \"Training\", cat) for cat in categories},\n",
    "    \"test\": {cat: os.path.join(base_dir, \"Testing\", cat) for cat in categories},\n",
    "}\n",
    "\n",
    "# Dictionary to hold processed images\n",
    "processed_data = {\n",
    "    \"train\": {},\n",
    "    \"test\": {}\n",
    "}\n",
    "\n",
    "def preprocess_images(image_dir, target_size=target_size):\n",
    "    \"\"\"Load, grayscale, resize, normalize all images in a directory.\"\"\"\n",
    "    image_files = os.listdir(image_dir)\n",
    "    images = []\n",
    "    for filename in image_files:\n",
    "        img_path = os.path.join(image_dir, filename)\n",
    "        with Image.open(img_path) as img:\n",
    "            img = img.convert('L')  # grayscale\n",
    "            img = img.resize(target_size)\n",
    "            img_arr = np.array(img) / 255.0  # normalize to [0,1]\n",
    "            #img_eq = exposure.equalize_hist(img_arr)  # histogram equalization\n",
    "            images.append(img_arr)\n",
    "    return np.array(images)\n",
    "\n",
    "# Preprocess images for all categories and both splits\n",
    "for split in [\"train\", \"test\"]:\n",
    "    for cat in categories:\n",
    "        print(f\"Processing {split} {cat} images...\")\n",
    "        split_path = train_test_data_dirs[split][cat]\n",
    "        processed_data[split][cat] = preprocess_images(split_path)\n",
    "        print(f\"{split.capitalize()} {cat} processed shape: {processed_data[split][cat].shape}\")\n",
    "\n",
    "# Example: display first preprocessed training glioma image\n",
    "plt.imshow(processed_data[\"train\"][\"glioma\"][0], cmap='gray')\n",
    "plt.axis('off')\n",
    "plt.title('First Preprocessed Training Glioma Image')\n",
    "plt.show()\n"
   ]
  },
  {
   "cell_type": "markdown",
   "id": "3dc0d0e8",
   "metadata": {},
   "source": [
    "# Exploratory Data Analysis\n",
    "\n",
    "This section is dedicated to Exploratory Data Analysis (EDA) of the brain tumor classification dataset. It aims to provide insights into the dataset's structure, class distribution, and image properties.\n"
   ]
  },
  {
   "cell_type": "code",
   "execution_count": null,
   "id": "9cfc1551",
   "metadata": {},
   "outputs": [],
   "source": [
    "<<<<<<< LOCAL CELL DELETED >>>>>>>\n"
   ]
  },
  {
   "cell_type": "markdown",
   "id": "b55d4b02",
   "metadata": {},
   "source": [
    "# Model Building\n",
    "\n",
    "Define the architecture of the classification model (e.g., CNN)."
   ]
  },
  {
   "cell_type": "code",
   "execution_count": null,
   "id": "833b5a62",
   "metadata": {},
   "outputs": [],
   "source": []
  },
  {
   "cell_type": "markdown",
   "id": "adfa5a91",
   "metadata": {},
   "source": [
    "# Model Training\n",
    "\n",
    "Train the model using the training dataset."
   ]
  },
  {
   "cell_type": "code",
   "execution_count": null,
   "id": "6373514d",
   "metadata": {},
   "outputs": [],
   "source": []
  },
  {
   "cell_type": "markdown",
   "id": "cc76abb9",
   "metadata": {},
   "source": [
    "# Model Evaluation\n",
    "\n",
    "Evaluate the model performance on the validation/test dataset."
   ]
  },
  {
   "cell_type": "code",
   "execution_count": null,
   "id": "a360254c",
   "metadata": {},
   "outputs": [],
   "source": []
  },
  {
   "cell_type": "markdown",
   "id": "f8b6ff38",
   "metadata": {},
   "source": []
  },
  {
   "cell_type": "markdown",
   "id": "5a9aade7",
   "metadata": {},
   "source": [
    "# Predictions\n",
    "\n",
    "Make predictions on new or unseen images."
   ]
  },
  {
   "cell_type": "code",
   "execution_count": null,
   "id": "55b7775f",
   "metadata": {},
   "outputs": [],
   "source": []
  },
  {
   "cell_type": "markdown",
   "id": "f5468929",
   "metadata": {},
   "source": [
    "# Conclusions and Next Steps\n",
    "\n",
    "Summarize findings and suggest future improvements."
   ]
  }
 ],
 "metadata": {
  "kernelspec": {
   "display_name": "Python (Brain Tumor Classifier)",
   "language": "python",
   "name": "brain-tumor-classifier"
  },
  "language_info": {
   "codemirror_mode": {
    "name": "ipython",
    "version": 3
   },
   "file_extension": ".py",
   "mimetype": "text/x-python",
   "name": "python",
   "nbconvert_exporter": "python",
   "pygments_lexer": "ipython3",
   "version": "3.12.7"
  },
  "nbdime-conflicts": {
   "local_diff": [
    {
     "diff": [
      {
       "diff": [
        {
         "key": 0,
         "op": "addrange",
         "valuelist": [
          "3.10.18"
         ]
        },
        {
         "key": 0,
         "length": 1,
         "op": "removerange"
        }
       ],
       "key": "version",
       "op": "patch"
      }
     ],
     "key": "language_info",
     "op": "patch"
    }
   ],
   "remote_diff": [
    {
     "diff": [
      {
       "diff": [
        {
         "key": 0,
         "op": "addrange",
         "valuelist": [
          "3.10.13"
         ]
        },
        {
         "key": 0,
         "length": 1,
         "op": "removerange"
        }
       ],
       "key": "version",
       "op": "patch"
      }
     ],
     "key": "language_info",
     "op": "patch"
    }
   ]
  }
 },
 "nbformat": 4,
 "nbformat_minor": 5
}
